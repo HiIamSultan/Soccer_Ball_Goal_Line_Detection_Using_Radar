{
  "nbformat": 4,
  "nbformat_minor": 0,
  "metadata": {
    "colab": {
      "provenance": [],
      "gpuType": "T4"
    },
    "kernelspec": {
      "name": "python3",
      "display_name": "Python 3"
    },
    "language_info": {
      "name": "python"
    },
    "accelerator": "GPU"
  },
  "cells": [
    {
      "cell_type": "code",
      "source": [
        "import os\n",
        "import gc\n",
        "import numpy as np\n",
        "import pandas as pd\n",
        "import matplotlib.pyplot as plt\n",
        "from scipy.io import loadmat\n",
        "import tensorflow as tf\n",
        "from tensorflow.keras import Model\n",
        "from tensorflow.keras.layers import Dense, Dropout, GlobalAveragePooling2D, Conv2D, Input\n",
        "from sklearn.metrics import f1_score, confusion_matrix"
      ],
      "metadata": {
        "id": "xArZmXmjrBAu"
      },
      "execution_count": 1,
      "outputs": []
    },
    {
      "cell_type": "code",
      "source": [
        "from google.colab import drive\n",
        "drive.mount('/content/drive/')"
      ],
      "metadata": {
        "id": "wF0aIBwUmprh",
        "colab": {
          "base_uri": "https://localhost:8080/"
        },
        "outputId": "1fdba31e-2706-4a76-e009-af894c0ccfbb"
      },
      "execution_count": 2,
      "outputs": [
        {
          "output_type": "stream",
          "name": "stdout",
          "text": [
            "Mounted at /content/drive/\n"
          ]
        }
      ]
    },
    {
      "cell_type": "code",
      "source": [
        "input_path='/content/drive/MyDrive/CSE 559 DATASET'"
      ],
      "metadata": {
        "id": "VaKYuXsrDsYj"
      },
      "execution_count": 3,
      "outputs": []
    },
    {
      "cell_type": "code",
      "source": [
        "input_data = []\n",
        "output = []\n",
        "\n",
        "for i in range(1, 301):\n",
        "  # Path to your .mat file\n",
        "  file_path = os.path.join(input_path, f'g{i}.mat')\n",
        "  if os.path.exists(file_path):\n",
        "    # Load the .mat file\n",
        "    temp = loadmat(file_path)\n",
        "    # Check if 'RPvsAoD' exists\n",
        "    if 'RPvsAoD' in temp:\n",
        "      input_data.append(np.reshape(temp['RPvsAoD'], [temp['RPvsAoD'].shape[0], temp['RPvsAoD'].shape[1], 1]))\n",
        "      output.append(1)\n",
        "    else:\n",
        "      print(f\"'RPvsAoD' not found in {file_path}\")\n",
        "  else:\n",
        "    print(f\"File not found: {file_path}\")\n",
        "\n",
        "for i in range(1, 168):\n",
        "  # Path to your .mat file\n",
        "  file_path = os.path.join(input_path, f'ng{i}.mat')\n",
        "  if os.path.exists(file_path):\n",
        "    # Load the .mat file\n",
        "    temp = loadmat(file_path)\n",
        "    # Check if 'RPvsAoD' exists\n",
        "    if 'RPvsAoD' in temp:\n",
        "      input_data.append(np.reshape(temp['RPvsAoD'], [temp['RPvsAoD'].shape[0], temp['RPvsAoD'].shape[1], 1]))\n",
        "      output.append(0)\n",
        "    else:\n",
        "      print(f\"'RPvsAoD' not found in {file_path}\")\n",
        "  else:\n",
        "    print(f\"File not found: {file_path}\")\n",
        "\n",
        "input_data = np.asarray(input_data, dtype = np.float32)\n",
        "output = np.asarray(output, dtype = np.int8)\n",
        "# Print the final shape of data\n",
        "print(\"Shape of data:\", input_data.shape)\n",
        "print(\"Shape of output:\", output.shape)"
      ],
      "metadata": {
        "colab": {
          "base_uri": "https://localhost:8080/"
        },
        "id": "Bs3Ljy2aq8vg",
        "outputId": "c925416c-764f-462d-9aa7-59245fcd45f2"
      },
      "execution_count": 4,
      "outputs": [
        {
          "output_type": "stream",
          "name": "stdout",
          "text": [
            "Shape of data: (467, 361, 181, 1)\n",
            "Shape of output: (467,)\n"
          ]
        }
      ]
    },
    {
      "cell_type": "code",
      "source": [
        "# Decide how many augmented samples you need\n",
        "num_original = input_data.shape[0]\n",
        "num_augmented = int((7/4) * num_original) # play with the number here\n",
        "num_new = num_augmented - num_original\n",
        "\n",
        "# Randomly select samples to augment\n",
        "indices = np.random.choice(num_original, num_new, replace=True)\n",
        "\n",
        "# Create augmented samples and inherit labels\n",
        "augmented_samples = []\n",
        "augmented_labels = []\n",
        "\n",
        "for idx in indices:\n",
        "    sample = input_data[idx]\n",
        "    label = output[idx]\n",
        "\n",
        "    # Add Gaussian noise to augment the sample\n",
        "    noisy_sample = sample + np.random.normal(0, 10, sample.shape)\n",
        "\n",
        "    # Clip the values to avoid extreme values (if required, e.g., range [0, 1])\n",
        "    noisy_sample = np.clip(noisy_sample, np.min(sample), np.max(sample))\n",
        "\n",
        "    augmented_samples.append(noisy_sample)\n",
        "    augmented_labels.append(label)  # Inherit label\n",
        "\n",
        "# Convert to NumPy arrays\n",
        "augmented_samples = np.array(augmented_samples)  # Shape: (3, 361, 181)\n",
        "augmented_labels = np.array(augmented_labels)   # Shape: (3,)\n",
        "\n",
        "# Combine original and augmented data\n",
        "X_final = np.concatenate([input_data, augmented_samples], axis=0)  # Shape: (8, 361, 181)\n",
        "y_final = np.concatenate([output, augmented_labels], axis=0)   # Shape: (8,)\n",
        "\n",
        "# Print shapes to verify\n",
        "print(\"Final dataset shape:\", X_final.shape)\n",
        "print(\"Final labels shape:\", y_final.shape)"
      ],
      "metadata": {
        "colab": {
          "base_uri": "https://localhost:8080/"
        },
        "id": "Pbv4DrhVzMVO",
        "outputId": "bf42a2f0-86e6-4514-a817-152098eac63e"
      },
      "execution_count": 5,
      "outputs": [
        {
          "output_type": "stream",
          "name": "stdout",
          "text": [
            "Final dataset shape: (817, 361, 181, 1)\n",
            "Final labels shape: (817,)\n"
          ]
        }
      ]
    },
    {
      "cell_type": "code",
      "source": [
        "# One-hot encode labels\n",
        "y_final = tf.keras.utils.to_categorical(y_final, num_classes=2)\n",
        "print(\"Updated output shape:\", y_final.shape)"
      ],
      "metadata": {
        "colab": {
          "base_uri": "https://localhost:8080/"
        },
        "id": "UIr46yqPFLIY",
        "outputId": "a62d9e6a-9ebd-4c41-f7f2-b46d1e8980cc"
      },
      "execution_count": 6,
      "outputs": [
        {
          "output_type": "stream",
          "name": "stdout",
          "text": [
            "Updated output shape: (817, 2)\n"
          ]
        }
      ]
    },
    {
      "cell_type": "code",
      "source": [
        "# Split the data into training and validation\n",
        "from sklearn.model_selection import train_test_split\n",
        "X_train, X_val, y_train, y_val = train_test_split(X_final, y_final, test_size=0.2, random_state=42)\n",
        "\n",
        "# Define ResNet model with modified input\n",
        "base_model = tf.keras.applications.ResNet50(\n",
        "    include_top=False,\n",
        "    weights='imagenet',  # Pretrained weights\n",
        "    input_shape=(361, 181, 3)  # Input shape with 3 channels\n",
        ")\n",
        "\n",
        "# Modify the first Conv2D layer to accept single-channel input\n",
        "input_layer = tf.keras.layers.Input(shape=(361, 181, 1))\n",
        "x = tf.keras.layers.Conv2D(3, (7, 7), strides=(1, 1), padding='same', activation='relu')(input_layer)  # Convert 1-channel to 3\n",
        "x = base_model(x, training=False)  # Pass through ResNet backbone\n",
        "x = tf.keras.layers.GlobalAveragePooling2D()(x)\n",
        "x = tf.keras.layers.Dense(128, activation='relu')(x)\n",
        "x = tf.keras.layers.Dropout(0.5)(x)\n",
        "output = tf.keras.layers.Dense(2, activation='softmax')(x)\n",
        "\n",
        "model = tf.keras.models.Model(inputs=input_layer, outputs=output)\n",
        "\n",
        "model.compile(optimizer='adam',\n",
        "              loss='categorical_crossentropy',\n",
        "              metrics=['accuracy'])\n",
        "\n",
        "history = model.fit(\n",
        "    X_train, y_train,\n",
        "    validation_data=(X_val, y_val),\n",
        "    epochs=20,\n",
        "    batch_size=16,\n",
        "    verbose=1\n",
        ")\n",
        "\n",
        "model.save(\"resnet_single_channel.h5\")\n",
        "print(\"Model trained and saved successfully!\")\n",
        "\n",
        "loss, accuracy = model.evaluate(X_val, y_val, verbose=1)\n",
        "print(f\"Validation Accuracy: {accuracy:.4f}\")\n",
        "\n",
        "y_pred = model.predict(X_val)\n",
        "y_pred_classes = y_pred.argmax(axis=1)\n",
        "y_true_classes = y_val.argmax(axis=1)\n",
        "\n",
        "f1_scr = f1_score(y_true_classes, y_pred_classes, average='macro')\n",
        "cm = confusion_matrix(y_true_classes, y_pred_classes)\n",
        "\n",
        "print(f\"F1 Score: {f1_scr:.4f}\")\n",
        "print(\"Confusion Matrix:\\n\", cm)\n",
        "\n",
        "# Plot Accuracy and Loss Graphs\n",
        "plt.figure(figsize=(12, 5))\n",
        "plt.plot(history.history['val_loss'], label='Loss')\n",
        "plt.title('')\n",
        "plt.xlabel('Epochs')\n",
        "plt.ylabel('Loss')\n",
        "\n",
        "plt.legend([], frameon=False)\n",
        "\n",
        "plt.show()\n",
        "\n",
        "gc.collect()"
      ],
      "metadata": {
        "colab": {
          "base_uri": "https://localhost:8080/",
          "height": 1000
        },
        "id": "YJGFxM-G6-UH",
        "outputId": "b2538719-8e0a-4dd5-c906-4e9beca2942b"
      },
      "execution_count": 8,
      "outputs": [
        {
          "output_type": "stream",
          "name": "stdout",
          "text": [
            "Epoch 1/20\n",
            "\u001b[1m41/41\u001b[0m \u001b[32m━━━━━━━━━━━━━━━━━━━━\u001b[0m\u001b[37m\u001b[0m \u001b[1m105s\u001b[0m 946ms/step - accuracy: 0.5303 - loss: 1.1569 - val_accuracy: 0.6951 - val_loss: 77.5592\n",
            "Epoch 2/20\n",
            "\u001b[1m41/41\u001b[0m \u001b[32m━━━━━━━━━━━━━━━━━━━━\u001b[0m\u001b[37m\u001b[0m \u001b[1m17s\u001b[0m 228ms/step - accuracy: 0.6083 - loss: 0.6745 - val_accuracy: 0.6951 - val_loss: 1.3454\n",
            "Epoch 3/20\n",
            "\u001b[1m41/41\u001b[0m \u001b[32m━━━━━━━━━━━━━━━━━━━━\u001b[0m\u001b[37m\u001b[0m \u001b[1m10s\u001b[0m 230ms/step - accuracy: 0.6312 - loss: 0.6680 - val_accuracy: 0.6951 - val_loss: 1.4193\n",
            "Epoch 4/20\n",
            "\u001b[1m41/41\u001b[0m \u001b[32m━━━━━━━━━━━━━━━━━━━━\u001b[0m\u001b[37m\u001b[0m \u001b[1m10s\u001b[0m 233ms/step - accuracy: 0.6409 - loss: 0.6622 - val_accuracy: 0.6951 - val_loss: 0.6219\n",
            "Epoch 5/20\n",
            "\u001b[1m41/41\u001b[0m \u001b[32m━━━━━━━━━━━━━━━━━━━━\u001b[0m\u001b[37m\u001b[0m \u001b[1m10s\u001b[0m 231ms/step - accuracy: 0.5987 - loss: 0.6806 - val_accuracy: 0.6951 - val_loss: 0.6801\n",
            "Epoch 6/20\n",
            "\u001b[1m41/41\u001b[0m \u001b[32m━━━━━━━━━━━━━━━━━━━━\u001b[0m\u001b[37m\u001b[0m \u001b[1m10s\u001b[0m 222ms/step - accuracy: 0.6095 - loss: 0.6758 - val_accuracy: 0.6951 - val_loss: 25.7622\n",
            "Epoch 7/20\n",
            "\u001b[1m41/41\u001b[0m \u001b[32m━━━━━━━━━━━━━━━━━━━━\u001b[0m\u001b[37m\u001b[0m \u001b[1m9s\u001b[0m 223ms/step - accuracy: 0.6236 - loss: 0.6593 - val_accuracy: 0.6951 - val_loss: 105.6271\n",
            "Epoch 8/20\n",
            "\u001b[1m41/41\u001b[0m \u001b[32m━━━━━━━━━━━━━━━━━━━━\u001b[0m\u001b[37m\u001b[0m \u001b[1m10s\u001b[0m 220ms/step - accuracy: 0.6247 - loss: 0.6614 - val_accuracy: 0.6951 - val_loss: 1014.5068\n",
            "Epoch 9/20\n",
            "\u001b[1m41/41\u001b[0m \u001b[32m━━━━━━━━━━━━━━━━━━━━\u001b[0m\u001b[37m\u001b[0m \u001b[1m10s\u001b[0m 220ms/step - accuracy: 0.6036 - loss: 0.6627 - val_accuracy: 0.6951 - val_loss: 8762.6836\n",
            "Epoch 10/20\n",
            "\u001b[1m41/41\u001b[0m \u001b[32m━━━━━━━━━━━━━━━━━━━━\u001b[0m\u001b[37m\u001b[0m \u001b[1m10s\u001b[0m 224ms/step - accuracy: 0.6377 - loss: 0.6551 - val_accuracy: 0.6951 - val_loss: 483.6118\n",
            "Epoch 11/20\n",
            "\u001b[1m41/41\u001b[0m \u001b[32m━━━━━━━━━━━━━━━━━━━━\u001b[0m\u001b[37m\u001b[0m \u001b[1m9s\u001b[0m 224ms/step - accuracy: 0.6388 - loss: 0.6209 - val_accuracy: 0.6951 - val_loss: 0.6752\n",
            "Epoch 12/20\n",
            "\u001b[1m41/41\u001b[0m \u001b[32m━━━━━━━━━━━━━━━━━━━━\u001b[0m\u001b[37m\u001b[0m \u001b[1m10s\u001b[0m 228ms/step - accuracy: 0.6635 - loss: 0.6239 - val_accuracy: 0.6951 - val_loss: 2503.4246\n",
            "Epoch 13/20\n",
            "\u001b[1m41/41\u001b[0m \u001b[32m━━━━━━━━━━━━━━━━━━━━\u001b[0m\u001b[37m\u001b[0m \u001b[1m10s\u001b[0m 224ms/step - accuracy: 0.6895 - loss: 0.6054 - val_accuracy: 0.6951 - val_loss: 470.9384\n",
            "Epoch 14/20\n",
            "\u001b[1m41/41\u001b[0m \u001b[32m━━━━━━━━━━━━━━━━━━━━\u001b[0m\u001b[37m\u001b[0m \u001b[1m10s\u001b[0m 224ms/step - accuracy: 0.7043 - loss: 0.6032 - val_accuracy: 0.6951 - val_loss: 169.0778\n",
            "Epoch 15/20\n",
            "\u001b[1m41/41\u001b[0m \u001b[32m━━━━━━━━━━━━━━━━━━━━\u001b[0m\u001b[37m\u001b[0m \u001b[1m10s\u001b[0m 224ms/step - accuracy: 0.6920 - loss: 0.6019 - val_accuracy: 0.6951 - val_loss: 44053.3281\n",
            "Epoch 16/20\n",
            "\u001b[1m41/41\u001b[0m \u001b[32m━━━━━━━━━━━━━━━━━━━━\u001b[0m\u001b[37m\u001b[0m \u001b[1m10s\u001b[0m 224ms/step - accuracy: 0.6852 - loss: 0.5861 - val_accuracy: 0.7134 - val_loss: 18.4756\n",
            "Epoch 17/20\n",
            "\u001b[1m41/41\u001b[0m \u001b[32m━━━━━━━━━━━━━━━━━━━━\u001b[0m\u001b[37m\u001b[0m \u001b[1m10s\u001b[0m 222ms/step - accuracy: 0.7260 - loss: 0.5478 - val_accuracy: 0.6951 - val_loss: 6105.8433\n",
            "Epoch 18/20\n",
            "\u001b[1m41/41\u001b[0m \u001b[32m━━━━━━━━━━━━━━━━━━━━\u001b[0m\u001b[37m\u001b[0m \u001b[1m10s\u001b[0m 221ms/step - accuracy: 0.6944 - loss: 0.6047 - val_accuracy: 0.6951 - val_loss: 3256.1904\n",
            "Epoch 19/20\n",
            "\u001b[1m41/41\u001b[0m \u001b[32m━━━━━━━━━━━━━━━━━━━━\u001b[0m\u001b[37m\u001b[0m \u001b[1m10s\u001b[0m 234ms/step - accuracy: 0.7241 - loss: 0.5396 - val_accuracy: 0.6951 - val_loss: 4552.0063\n",
            "Epoch 20/20\n",
            "\u001b[1m41/41\u001b[0m \u001b[32m━━━━━━━━━━━━━━━━━━━━\u001b[0m\u001b[37m\u001b[0m \u001b[1m10s\u001b[0m 222ms/step - accuracy: 0.7016 - loss: 0.5507 - val_accuracy: 0.6951 - val_loss: 1564.0590\n"
          ]
        },
        {
          "output_type": "stream",
          "name": "stderr",
          "text": [
            "WARNING:absl:You are saving your model as an HDF5 file via `model.save()` or `keras.saving.save_model(model)`. This file format is considered legacy. We recommend using instead the native Keras format, e.g. `model.save('my_model.keras')` or `keras.saving.save_model(model, 'my_model.keras')`. \n"
          ]
        },
        {
          "output_type": "stream",
          "name": "stdout",
          "text": [
            "Model trained and saved successfully!\n",
            "\u001b[1m6/6\u001b[0m \u001b[32m━━━━━━━━━━━━━━━━━━━━\u001b[0m\u001b[37m\u001b[0m \u001b[1m2s\u001b[0m 95ms/step - accuracy: 0.7278 - loss: 1397.2899 \n",
            "Validation Accuracy: 0.6951\n",
            "\u001b[1m6/6\u001b[0m \u001b[32m━━━━━━━━━━━━━━━━━━━━\u001b[0m\u001b[37m\u001b[0m \u001b[1m7s\u001b[0m 896ms/step\n",
            "F1 Score: 0.4101\n",
            "Confusion Matrix:\n",
            " [[  0  50]\n",
            " [  0 114]]\n"
          ]
        },
        {
          "output_type": "display_data",
          "data": {
            "text/plain": [
              "<Figure size 1200x500 with 1 Axes>"
            ],
            "image/png": "[encoded data removed]"
          },
          "metadata": {}
        },
        {
          "output_type": "execute_result",
          "data": {
            "text/plain": [
              "101329"
            ]
          },
          "metadata": {},
          "execution_count": 8
        }
      ]
    }
  ]
}